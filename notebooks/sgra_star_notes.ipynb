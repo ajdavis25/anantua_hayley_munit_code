{
 "cells": [
  {
   "cell_type": "markdown",
   "id": "eeb0c616",
   "metadata": {},
   "source": [
    "##### this will be the notebook i use for my thesis"
   ]
  },
  {
   "cell_type": "markdown",
   "id": "35b22e56",
   "metadata": {},
   "source": [
    "### quexions\n",
    "\n",
    "- what are the limitations of IPOLE and GRMONTY?\n",
    "- "
   ]
  },
  {
   "cell_type": "markdown",
   "id": "3bfe06a1",
   "metadata": {},
   "source": [
    "## limitations\n",
    "\n",
    "- GRMONTY\n",
    "    - no way to modify inclination angle?\n",
    "    - no way to model electron-positron pair dominated plasma\n",
    "    - \n",
    "\n",
    "\n",
    "- IPOLE\n",
    "    - \n",
    "    - "
   ]
  },
  {
   "cell_type": "markdown",
   "id": "fcb721f5",
   "metadata": {},
   "source": [
    "what i need to know more of:\n",
    "\n",
    "riaf, adaf, cdaf\n",
    "\n",
    "evpa, and temporal variations in the evpa\n",
    "\n",
    "bz/bp mechanisms\n",
    "\n",
    "sgr a* submm bump\n",
    "\n",
    "\"big blue bump\" in llagn's"
   ]
  },
  {
   "cell_type": "markdown",
   "id": "ef5b1f19",
   "metadata": {},
   "source": [
    "ch 1.\n",
    "\n"
   ]
  },
  {
   "cell_type": "markdown",
   "id": "b5ca668c",
   "metadata": {},
   "source": [
    "ch 2.\n",
    "\n"
   ]
  },
  {
   "cell_type": "markdown",
   "id": "51e86e0b",
   "metadata": {},
   "source": [
    "ch 3.\n",
    "\n",
    "prove 3.9 ?\n",
    "\n",
    "3.16/3.17/3.18\n",
    "\n",
    "general relativity\n",
    "\n",
    "magnetohydrodynamics\n",
    "\n",
    "radiative transfer"
   ]
  },
  {
   "cell_type": "markdown",
   "id": "155706ce",
   "metadata": {},
   "source": [
    "ch 4.\n",
    "\n",
    "look into HARM (high-accuracy relativistic magnetohydrodynamics)\n",
    "\n",
    "look into accretion disk modeling using GRRT (general relativistic radiative transfer)"
   ]
  },
  {
   "cell_type": "markdown",
   "id": "cb17d099",
   "metadata": {},
   "source": [
    "ch 5.\n",
    "\n",
    "electron-positron pairs mainly produced through Breit-Wheeler process in JAB systems as a result of photon-photon collisons\n",
    "\n",
    "compare morphology of models without assistance of SEDs (spectral energy distribution) using polarimetric images\n"
   ]
  },
  {
   "cell_type": "markdown",
   "id": "1d783a7f",
   "metadata": {},
   "source": [
    "ch 6.\n",
    "\n"
   ]
  },
  {
   "cell_type": "markdown",
   "id": "5567a16a",
   "metadata": {},
   "source": [
    "ch 7.\n",
    "\n"
   ]
  },
  {
   "cell_type": "markdown",
   "id": "80851e35",
   "metadata": {},
   "source": [
    "1. abstract (~250 words - currently ~150)\n",
    "- purpose: summarize the full project concisely\n",
    "    - research problem: what i studied (sgr a*, accretion states, modeling approach)\n",
    "    - methods: tools (grmonty, ipole, radiative transfer, grmhd simulations)\n",
    "    - key results: flux, polarization variability trends\n",
    "    - significance: implications for understanding sgr a* and agn physics"
   ]
  },
  {
   "cell_type": "markdown",
   "id": "92b77f3f",
   "metadata": {},
   "source": [
    "2. intro/background (2-3 pages)\n",
    "- purpose: motivate the problem and define scientific landscape\n",
    "    - observational context:\n",
    "        - properties of sgr a* (mass, distance, luminosity, low eddington ratio)\n",
    "        - comparison to m87 (why m87 is luminous vs. sgr a* quiescent)\n",
    "        - observational bands and constraints (eht, chandra, alma, vla)\n",
    "    - accretion theory:\n",
    "        - RIAFs, ADAFs, and magnetized accretion frameworks\n",
    "        - definition and physical meaning of MAD vs. SANE\n",
    "    - relevance of polarization and radiative transfer in BH imaging\n",
    "    - thesis objective and hypothesis statement\n",
    "- goal: end with a paragraph like:\n",
    "    - \"This thesis seeks to determine how magnetization (MAD vs. SANE) affects the observable variability and polarization signatures of Sgr A* at 230 GHz.\""
   ]
  },
  {
   "cell_type": "markdown",
   "id": "4783505a",
   "metadata": {},
   "source": [
    "3. theoretical framework (2-4 pages)\n",
    "- purpose: build the physics foundation behind my modeling\n",
    "- include key derivations or conceptual equations (no full derivations unless essential)\n",
    "    - relativistic accretion flow basics (metric, fluid equations)\n",
    "    - magnetization parameter \\beta = p_gas / p_mag and its role\n",
    "    - radiative transfer equation in curved spacetime\n",
    "        - stokes parameters IQUV\n",
    "        - polarization fraction and rotation measures\n",
    "    - overview of simulation assumptions: stationary metric, electron thermodynamics (R-\\beta, Crit-\\beta models)\n",
    "    - scaling relations (mass, accretion rate, Munit formulation if included)\n",
    "    - (include diagrams of ray tracing geometry and magnetic field structure)"
   ]
  },
  {
   "cell_type": "markdown",
   "id": "a13d1f96",
   "metadata": {},
   "source": [
    "4. methods/numerical implementation (3-5 pages)\n",
    "- purpose: show how i did the science\n",
    "    - simulation data source: which GRMHD snapshots/dumps i used (e.g., Sa-0.5_5000.h5)\n",
    "    - radiative transfer codes:\n",
    "        - IPOLE (image synthesis, polarization transport)\n",
    "        - GRMONTY (monte carlo radiative transfer, synchrotron emissivities)\n",
    "    - model parameters:\n",
    "        - r-\\beta and crit-\\beta parameterizations\n",
    "        - electron temperature model, positron fraction if applicable\n",
    "        - munit calibration approach\n",
    "    - computational setup:\n",
    "        - hpc environment (arc cluster, module stack, bash wrappers)\n",
    "        - parallelization and resource usage\n",
    "    - outputs: image maps, light curves, spectra, polarization fraction\n",
    "    - optional strength: include flowchart of data pipeline (input -> grmhd -> ipole -> analysis)"
   ]
  },
  {
   "cell_type": "markdown",
   "id": "0ae3393a",
   "metadata": {},
   "source": [
    "5. results (4-6 pages)\n",
    "- purpose: present findings objectively with figures\n",
    "    - flux and polarization trends: compare MAD vs. SANE outputs\n",
    "    - variability analysis: light-curve statistics, power spectra, timescale comparisons\n",
    "    - synthetic images: structure, brightness asymmetry, EVPA morphology\n",
    "    - spectral energy distributions (SEDs): multi-band flux comparison\n",
    "    - parameter sensitivities: r-\\beta vs crit-\\beta; munit scaling; positron ratio, etc.\n",
    "    - observational comparisons: match to EHT 230 GHz fluxes and polarization (e.g., 0.50 Jy targets)\n",
    "    - goal: each figure should answer a question stated in my introduction"
   ]
  },
  {
   "cell_type": "markdown",
   "id": "b0478073",
   "metadata": {},
   "source": [
    "6. discussion (2-4 pages)\n",
    "- purpose: interpret results physically and critically\n",
    "    - what do the results say about Sgr A*'s accretion mode\n",
    "    - how do MAD/SANE behaviors compare to theoretical expectations?\n",
    "    - what do flux and polarization trends imply about magnetic topology?\n",
    "    - comparison to prior work (EHT Collaboration 2019-2022, Anantual et al. 2023, etc.)\n",
    "    - limitations of current modeling: resolution, ideal MHD, no electron heating feedback\n",
    "    - future work: hybrid models, time-dependent radiative transfer, non-thermal electrons\n",
    "    - tie every interpretation back to the original objectives"
   ]
  },
  {
   "cell_type": "markdown",
   "id": "90ec0fc4",
   "metadata": {},
   "source": [
    "7. conclusion (1 page)\n",
    "- purpose: state what was achieved and why it mattesr\n",
    "    - concise summary of findings\n",
    "    - confirmation/refutation of hypotheses\n",
    "    - broader astrophysical implications (link Sgr A* <-> AGN unification)\n",
    "    - outlook: what next studies or EHT cycles could test my results"
   ]
  },
  {
   "cell_type": "markdown",
   "id": "95e85392",
   "metadata": {},
   "source": [
    "8. references/bibliography\n",
    "- purpose: demonstrate scholarly grounding\n",
    "    - include all relevant EHT papers, GRMHD modeling papers, and foundational theory (Narayan & Yi, McKinney et al., Moscibrodzka et al.)\n",
    "    - find out department's preferred citation style"
   ]
  },
  {
   "cell_type": "markdown",
   "id": "9a65d0e5",
   "metadata": {},
   "source": [
    "9. appendices?"
   ]
  }
 ],
 "metadata": {
  "language_info": {
   "name": "python"
  }
 },
 "nbformat": 4,
 "nbformat_minor": 5
}
