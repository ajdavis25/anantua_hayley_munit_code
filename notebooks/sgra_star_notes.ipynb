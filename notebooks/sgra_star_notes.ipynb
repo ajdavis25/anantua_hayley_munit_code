{
 "cells": [
  {
   "cell_type": "markdown",
   "id": "eeb0c616",
   "metadata": {},
   "source": [
    "##### this will be the notebook i use for my thesis"
   ]
  },
  {
   "cell_type": "markdown",
   "id": "35b22e56",
   "metadata": {},
   "source": [
    "### quexions\n",
    "\n",
    "- what are the limitations of IPOLE and GRMONTY?\n",
    "- "
   ]
  },
  {
   "cell_type": "markdown",
   "id": "3bfe06a1",
   "metadata": {},
   "source": [
    "## limitations\n",
    "\n",
    "- #### GRMONTY\n",
    "    - no way to modify inclination angle?\n",
    "    - no way to model electron-positron pair dominated plasma\n",
    "    - \n",
    "\n",
    "\n",
    "- #### IPOLE\n",
    "    - \n",
    "    - "
   ]
  },
  {
   "cell_type": "markdown",
   "id": "fcb721f5",
   "metadata": {},
   "source": [
    "what i need to know more of:\n",
    "\n",
    "riaf, adaf, cdaf\n",
    "\n",
    "evpa, and temporal variations in the evpa\n",
    "\n",
    "bz/bp mechanisms\n",
    "\n",
    "sgr a* submm bump\n",
    "\n",
    "\"big blue bump\" in llagn's"
   ]
  },
  {
   "cell_type": "markdown",
   "id": "10a85a8c",
   "metadata": {},
   "source": [
    "cold accretion flows occur in slim disks at super-eddington rates?\n",
    "- responsible for luminous agn radiating at or close to eddington limit\n",
    "- supper-eddington rates happen on short time scales\n",
    "\n",
    "hot accretion described by adaf and luminous hot accretion flow"
   ]
  },
  {
   "cell_type": "markdown",
   "id": "39163902",
   "metadata": {},
   "source": [
    "what is my eddington rate taken to be in my thesis - if i talk about it should i also include a footnote with this paper ? https://arxiv.org/pdf/1401.0586\n",
    "\n"
   ]
  },
  {
   "cell_type": "markdown",
   "id": "e412678f",
   "metadata": {},
   "source": [
    "what \"beta\" means\n",
    "\n",
    "beta = p_gas / p_mag\n",
    "\n",
    "is the plasma beta, the ratio of gas pressure to magnetic pressure\n",
    "\n",
    "- low beta << 1 -> strongly magnetized regions (jet)\n",
    "- high beta >> 1 -> weakly magnetized regions (disk)"
   ]
  },
  {
   "cell_type": "markdown",
   "id": "a174accf",
   "metadata": {},
   "source": [
    "simulations like mad and sane track the total plasma energy but NOT the separate electron temperature, i need a *sub-grid prescription* to set the electron temperature (or equivalently, T_e/T_p)"
   ]
  },
  {
   "cell_type": "markdown",
   "id": "98c1ba12",
   "metadata": {},
   "source": [
    "advection-dominated acretion =/= hot accretion\n",
    "\n",
    "for instance, the slim disk is advection-dominated, although for a very different reason (long radiative diffusion time) compared to a hot ADAF (long cooling time).\n",
    "\n"
   ]
  },
  {
   "cell_type": "markdown",
   "id": "afaa6470",
   "metadata": {},
   "source": []
  }
 ],
 "metadata": {
  "language_info": {
   "name": "python"
  }
 },
 "nbformat": 4,
 "nbformat_minor": 5
}
