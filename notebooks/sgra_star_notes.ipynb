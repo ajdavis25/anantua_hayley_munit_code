{
 "cells": [
  {
   "cell_type": "markdown",
   "id": "03e106c3",
   "metadata": {},
   "source": [
    "### sgr a* *run_from_csv()* configuration\n",
    "\n",
    "- `sim_dir`: keep the same unless richard sends me a new sgr a* tuned dump set\n",
    "- `inclination`: try $20\\degree\\!-\\!90\\degree$ (sgr a* orientation uncertain; jetless)\n",
    "- `freq_Hz`: keep at 230 GHz, maybe also test 86 GHz (3.5mm)\n",
    "- `fov`: for sgr a*, ring $\\approx$ $50 \\mu as \\rightarrow$ keep $160 \\mu as$ FOV, safe\n",
    "- `npixel`: 320 is fine; can i reduce to 256 for faster runs?\n",
    "- `rmax_geo`: $50 r_g$ keep; scale-free\n",
    "- `out_dir`: optional rename: `/work/vmo703/ipole_outputs/sgrA`\n",
    "- `csv_path`: keep same structure, just rename output column titles for clarity"
   ]
  },
  {
   "cell_type": "markdown",
   "id": "dfee58a5",
   "metadata": {},
   "source": [
    "### sgr a* *runIPOLE()* configuration (physics tuning)\n",
    "\n",
    "- `Rhigh`: keep ~20 to start; maybe test 10-40\n",
    "- `thetacam` (= `inclination`): try face-on to edge-on range ($20\\!-\\!90\\degree$)\n",
    "- `freq_hz`: 228e9 or 86e9\n",
    "- `positronRatio`: for now\n",
    "- `constant_beta_e0`: fine\n",
    "- `beta_crit`: fine\n",
    "- `electronModel`: keep; these are my comparison axes\n",
    "- `sigma_transition`, `sigma_cut`: 2.0, 2.0 is reasonable; maybe tighten for sgr a* (less jet)\n",
    "- `MunitUsed`: **RESOLVE THIS!** choose a sgr a* flux target ($\\approx$ 2.4 Jy @ 230 GHz) and iterate until my model matches that\n",
    "\n",
    "`MunitUsed` is my **biggest tuning lever** when switching sources. that's what sets the accretion rate scale, hence brightness"
   ]
  },
  {
   "cell_type": "markdown",
   "id": "fcb721f5",
   "metadata": {},
   "source": [
    "what i need to know more of:\n",
    "\n",
    "riaf, adaf, cdaf\n",
    "\n",
    "evpa, and temporal variations in the evpa\n",
    "\n",
    "bz/bp mechanisms\n",
    "\n",
    "sgr a* submm bump\n",
    "\n",
    "\"big blue bump\" in llagn's"
   ]
  },
  {
   "cell_type": "markdown",
   "id": "10a85a8c",
   "metadata": {},
   "source": [
    "cold accretion flows occur in slim disks at super-eddington rates?\n",
    "- responsible for luminous agn radiating at or close to eddington limit\n",
    "- supper-eddington rates happen on short time scales\n",
    "\n",
    "hot accretion described by adaf and luminous hot accretion flow"
   ]
  },
  {
   "cell_type": "markdown",
   "id": "39163902",
   "metadata": {},
   "source": [
    "what is my eddington rate taken to be in my thesis - if i talk about it should i also include a footnote with this paper ? https://arxiv.org/pdf/1401.0586\n",
    "\n"
   ]
  },
  {
   "cell_type": "markdown",
   "id": "e412678f",
   "metadata": {},
   "source": [
    "what \"beta\" means\n",
    "\n",
    "beta = p_gas / p_mag\n",
    "\n",
    "is the plasma beta, the ratio of gas pressure to magnetic pressure\n",
    "\n",
    "- low beta << 1 -> strongly magnetized regions (jet)\n",
    "- high beta >> 1 -> weakly magnetized regions (disk)"
   ]
  },
  {
   "cell_type": "markdown",
   "id": "a174accf",
   "metadata": {},
   "source": [
    "simulations like mad and sane track the total plasma energy but NOT the separate electron temperature, i need a *sub-grid prescription* to set the electron temperature (or equivalently, T_e/T_p)"
   ]
  },
  {
   "cell_type": "markdown",
   "id": "98c1ba12",
   "metadata": {},
   "source": [
    "advection-dominated acretion =/= hot accretion\n",
    "\n",
    "for instance, the slim disk is advection-dominated, although for a very different reason (long radiative diffusion time) compared to a hot ADAF (long cooling time).\n",
    "\n"
   ]
  },
  {
   "cell_type": "markdown",
   "id": "afaa6470",
   "metadata": {},
   "source": [
    "for thermal synchrotron post-processing, a good rule is\n",
    "\n",
    "$F_\\nu \\propto \\mathrm{Munit}^{3/2}\\, M^2\\, D^{-2}\\quad(\\text{for fixed electron model \\& view})$\n",
    "\n",
    "so,\n",
    "\n",
    "$Munit \\propto \\left(\\frac{F_\\nu D^2}{M^2}\\right)^{2/3}$"
   ]
  },
  {
   "cell_type": "markdown",
   "id": "0e6ca755",
   "metadata": {},
   "source": []
  }
 ],
 "metadata": {
  "language_info": {
   "name": "python"
  }
 },
 "nbformat": 4,
 "nbformat_minor": 5
}
