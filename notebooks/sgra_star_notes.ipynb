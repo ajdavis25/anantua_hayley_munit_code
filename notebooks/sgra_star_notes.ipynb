{
 "cells": [
  {
   "cell_type": "markdown",
   "id": "eeb0c616",
   "metadata": {},
   "source": [
    "##### this will be the notebook i use for my thesis"
   ]
  },
  {
   "cell_type": "markdown",
   "id": "35b22e56",
   "metadata": {},
   "source": [
    "# quexions\n",
    "\n",
    "- what are the limitations of IPOLE and GRMONTY?\n",
    "- "
   ]
  },
  {
   "cell_type": "markdown",
   "id": "3bfe06a1",
   "metadata": {},
   "source": [
    "# limitations\n",
    "\n",
    "- GRMONTY\n",
    "    - no way to modify inclination angle?\n",
    "    - no way to model electron-positron pair dominated plasma\n",
    "    - "
   ]
  },
  {
   "cell_type": "markdown",
   "id": "ef5b1f19",
   "metadata": {},
   "source": [
    "ch 1.\n",
    "\n"
   ]
  },
  {
   "cell_type": "markdown",
   "id": "b5ca668c",
   "metadata": {},
   "source": [
    "ch 2.\n",
    "\n"
   ]
  },
  {
   "cell_type": "markdown",
   "id": "51e86e0b",
   "metadata": {},
   "source": [
    "ch 3.\n",
    "\n",
    "prove 3.9 ?\n",
    "\n",
    "3.16/3.17/3.18\n",
    "\n",
    "general relativity\n",
    "\n",
    "magnetohydrodynamics\n",
    "\n",
    "radiative transfer"
   ]
  },
  {
   "cell_type": "markdown",
   "id": "155706ce",
   "metadata": {},
   "source": [
    "ch 4.\n",
    "\n",
    "look into HARM (high-accuracy relativistic magnetohydrodynamics)\n",
    "\n",
    "look into accretion disk modeling using GRRT (general relativistic radiative transfer)"
   ]
  },
  {
   "cell_type": "markdown",
   "id": "cb17d099",
   "metadata": {},
   "source": [
    "ch 5.\n",
    "\n",
    "electron-positron pairs mainly produced through Breit-Wheeler process in JAB systems as a result of photon-photon collisons\n",
    "\n",
    "compare morphology of models without assistance of SEDs (spectral energy distribution) using polarimetric images\n"
   ]
  },
  {
   "cell_type": "markdown",
   "id": "1d783a7f",
   "metadata": {},
   "source": [
    "ch 6.\n",
    "\n"
   ]
  },
  {
   "cell_type": "markdown",
   "id": "5567a16a",
   "metadata": {},
   "source": [
    "ch 7.\n",
    "\n"
   ]
  },
  {
   "cell_type": "markdown",
   "id": "80851e35",
   "metadata": {},
   "source": []
  }
 ],
 "metadata": {
  "language_info": {
   "name": "python"
  }
 },
 "nbformat": 4,
 "nbformat_minor": 5
}
