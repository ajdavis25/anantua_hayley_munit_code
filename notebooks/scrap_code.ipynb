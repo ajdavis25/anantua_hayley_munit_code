{
 "cells": [
  {
   "cell_type": "code",
   "execution_count": null,
   "id": "a306424c",
   "metadata": {},
   "outputs": [],
   "source": [
    "# /work/vmo703/scratch/repro_fig9.py\n",
    "from PositronIPOLEScripts.ipole_positron_test_unlocked import makePositronImages\n",
    "\n",
    "sim   = \"/work/vmo703/grmhd_dump_samples/Sa-0.5_5000.h5\"\n",
    "Munit = 1.83e27  # your base Munit for SANE a=-0.5 (from your table)\n",
    "out   = \"/work/vmo703/ipole_outputs/fig9_test.h5\"\n",
    "ipole = \"/work/vmo703/aricarte-copy/aricarte/ipole+e-/ipole\"\n",
    "\n",
    "makePositronImages(sim, Munit,\n",
    "                   positronRatios=[0,1],\n",
    "                   nameBase=out, inclination=163.0, Rhigh=20,\n",
    "                   ipole=ipole, fov=160.0, npixel=320, counterjet=0, rmax_geo=50)\n"
   ]
  },
  {
   "cell_type": "markdown",
   "id": "17c44bf9",
   "metadata": {},
   "source": [
    "- import csv data for correct M_base\n",
    "- loop over grmhd_dump_samples/\n",
    "- expand nameBase and simFile dynamically from filename\n",
    "- automate output.par and .h5 saving"
   ]
  },
  {
   "cell_type": "markdown",
   "id": "92e8aa44",
   "metadata": {},
   "source": [
    "potentially separate the dump samples output in a Dict like below to allow a batch run on each setting? RBETA[wJET] && CRITBETA[wJET]"
   ]
  },
  {
   "cell_type": "code",
   "execution_count": null,
   "id": "453c5298",
   "metadata": {},
   "outputs": [],
   "source": [
    "def process_file(file_path: str, bolo_groups: Dict[str, List[str]]) -> Dict[Tuple[str, int], List[float]]:\n",
    "    \"\"\"\n",
    "    this function processes a time constant data file and returns the processed results\n",
    "\n",
    "    args:\n",
    "        file_path: the path to the time constant data file (in pickle format)\n",
    "        bolo_groups: a dictionary that groups bolometers by some criteria (e.g., frequency)\n",
    "            keys are group names, values are lists of detector IDs belonging to that group\n",
    "\n",
    "    returns:\n",
    "        a dictionary containing the processed time constant data:\n",
    "            - keys are tuples of (frequency, elevation)\n",
    "                values are lists containing the median time constant for each detector within that frequency-elevation pair\n",
    "        if the function fails to extract obs_id or elevation from the filename, an empty dictionary is returned\n",
    "    \"\"\"\n",
    "    match = re.search(r'time_const_(\\d+)_el_(\\d+)deg.pkl', file_path)\n",
    "\n",
    "    if match:\n",
    "        obs_id = int(match.group(1))\n",
    "        el = int(match.group(2))\n",
    "    else:\n",
    "        logging.error(f\"Failed to extract obs_id or elevation from filename: {file_path}\")\n",
    "        return {}\n",
    "\n",
    "    with open(file_path, 'rb') as file:\n",
    "        time_constant_data = pickle.load(file)\n",
    "        return process_time_constant_data(time_constant_data, bolo_groups, el, obs_id)"
   ]
  }
 ],
 "metadata": {
  "language_info": {
   "name": "python"
  }
 },
 "nbformat": 4,
 "nbformat_minor": 5
}
