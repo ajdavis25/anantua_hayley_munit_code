{
 "cells": [
  {
   "cell_type": "markdown",
   "id": "41b4bc09",
   "metadata": {},
   "source": [
    "reasons for different flux values:\n",
    "- input parameters (obviously)\n",
    "- float point rounding\n",
    "- interpolation schemes\n",
    "- grid resolution\n",
    "- threading or cpu behavior\n",
    "\n",
    "all can cascade into diferent values"
   ]
  },
  {
   "cell_type": "markdown",
   "id": "68326668",
   "metadata": {},
   "source": [
    "expect idential I, Q, U, V to 5+ sigfigs\n",
    "\n",
    "bitwise identical results\n",
    "\n",
    "fluxes within 5-10%\n",
    "\n",
    "similar polarization structure\n",
    "\n",
    "consistent image morphology\n"
   ]
  },
  {
   "cell_type": "markdown",
   "id": "9981ab89",
   "metadata": {},
   "source": [
    "timesteps can be generated from this formula: i.e. timestep 25000 = 5000 (in filename)"
   ]
  },
  {
   "cell_type": "code",
   "execution_count": 1,
   "id": "a22bac93",
   "metadata": {},
   "outputs": [],
   "source": [
    "import h5py, pathlib as p\n",
    "for f in sorted(p.Path(\"/work/vmo703/ipole_outputs\").glob(\"image_Sa-0.5_5000_RBETA_pos0.h5\")):\n",
    "    with h5py.File(f, \"r\") as H:\n",
    "        tM = float(H[\"/fluid_header/t\"][()]) # time in code units ~ M\n",
    "        F  = float(H[\"/Ftot_unpol\"][()])\n",
    "    print(f.name, \"  t[M] =\", tM, \"  Ftot[Jy] =\", F)\n"
   ]
  },
  {
   "cell_type": "markdown",
   "id": "1fee4b9a",
   "metadata": {},
   "source": [
    "should produce output like:\n",
    "\n",
    "image_Sa-0.5_5000_RBETA_pos0.h5   t[M] = 25000.00574440445   Ftot[Jy] = 0.2674505406203403"
   ]
  },
  {
   "cell_type": "markdown",
   "id": "221489ec",
   "metadata": {},
   "source": []
  }
 ],
 "metadata": {
  "kernelspec": {
   "display_name": "ipole_venv",
   "language": "python",
   "name": "python3"
  },
  "language_info": {
   "codemirror_mode": {
    "name": "ipython",
    "version": 3
   },
   "file_extension": ".py",
   "mimetype": "text/x-python",
   "name": "python",
   "nbconvert_exporter": "python",
   "pygments_lexer": "ipython3",
   "version": "3.6.8"
  }
 },
 "nbformat": 4,
 "nbformat_minor": 5
}
