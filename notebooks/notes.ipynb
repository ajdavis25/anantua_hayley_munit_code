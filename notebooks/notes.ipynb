{
 "cells": [
  {
   "cell_type": "markdown",
   "id": "41b4bc09",
   "metadata": {},
   "source": [
    "reasons for different flux values:\n",
    "- input parameters (obviously)\n",
    "- float point rounding\n",
    "- interpolation schemes\n",
    "- grid resolution\n",
    "- threading or cpu behavior\n",
    "\n",
    "all can cascade into diferent values"
   ]
  },
  {
   "cell_type": "markdown",
   "id": "68326668",
   "metadata": {},
   "source": [
    "expect idential I, Q, U, V to 5+ sigfigs\n",
    "\n",
    "bitwise identical results\n",
    "\n",
    "fluxes within 5-10%\n",
    "\n",
    "similar polarization structure\n",
    "\n",
    "consistent image morphology\n"
   ]
  }
 ],
 "metadata": {
  "language_info": {
   "name": "python"
  }
 },
 "nbformat": 4,
 "nbformat_minor": 5
}
