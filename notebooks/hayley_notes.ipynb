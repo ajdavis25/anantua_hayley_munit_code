{
 "cells": [
  {
   "cell_type": "markdown",
   "id": "41b4bc09",
   "metadata": {},
   "source": [
    "reasons for different flux values:\n",
    "- input parameters (obviously)\n",
    "- float point rounding\n",
    "- interpolation schemes\n",
    "- grid resolution\n",
    "- threading or cpu behavior\n",
    "\n",
    "all can cascade into diferent values"
   ]
  },
  {
   "cell_type": "markdown",
   "id": "68326668",
   "metadata": {},
   "source": [
    "expect idential I, Q, U, V to 5+ sigfigs\n",
    "\n",
    "bitwise identical results\n",
    "\n",
    "fluxes within 5-10%\n",
    "\n",
    "similar polarization structure\n",
    "\n",
    "consistent image morphology\n"
   ]
  },
  {
   "cell_type": "markdown",
   "id": "9981ab89",
   "metadata": {},
   "source": [
    "timesteps can be generated from this formula: i.e. timestep 25000 = 5000 (in filename)"
   ]
  },
  {
   "cell_type": "code",
   "execution_count": null,
   "id": "a22bac93",
   "metadata": {},
   "outputs": [
    {
     "name": "stdout",
     "output_type": "stream",
     "text": [
      "MAD_spin-0.5_t5000_RBETA_pos0.h5   t[M] = 25000.006108902577   Ftot[Jy] = 0.5576462116678979\n"
     ]
    }
   ],
   "source": [
    "import h5py, pathlib as p\n",
    "\n",
    "for f in sorted(p.Path(\"/work/vmo703/ipole_outputs/Ma-0.5_5000\")\n",
    "                .glob(\"MAD_spin-0.5_t5000_RBETA_pos0.h5\")):\n",
    "    with h5py.File(f, \"r\") as H:\n",
    "        tM = float(H[\"/fluid_header/t\"][()]) # time in code units ~ M\n",
    "        F  = float(H[\"/Ftot_unpol\"][()])\n",
    "    print(f.name, \"  t[M] =\", tM, \"  Ftot[Jy] =\", F)\n"
   ]
  },
  {
   "cell_type": "markdown",
   "id": "1fee4b9a",
   "metadata": {},
   "source": [
    "should produce output like:\n",
    "\n",
    "MAD_spin-0.5_t5000_RBETA_pos0.h5   t[M] = 25000.006108902577   Ftot[Jy] = 0.5576462116678979"
   ]
  },
  {
   "cell_type": "markdown",
   "id": "221489ec",
   "metadata": {},
   "source": [
    "SANE+0.94_4000 (timestep: 20000) only has one value for MunitOffset and MunitSlope:"
   ]
  },
  {
   "cell_type": "code",
   "execution_count": 1,
   "id": "c6d09a79",
   "metadata": {},
   "outputs": [],
   "source": [
    "offset_slope_key = {\n",
    "    \"20000\": {\n",
    "        \"MunitOffset\": {\n",
    "            \"MAD+0.94\": [\n",
    "                4.5e+24, 2.5e+24, 3e+24, 2.2e+24\n",
    "            ],\n",
    "            \"MAD-0.5\": [\n",
    "                1.3e+25, 8e+24, 1e+25, 8.5e+24\n",
    "            ],\n",
    "            \"SANE-0.5\": [\n",
    "                5e+28,1.9e+28, 2.9e+28, 1.7e+28\n",
    "            ],\n",
    "            \"SANE+0.94\": [\n",
    "                1.5e+27\n",
    "            ]\n",
    "        },\n",
    "        \"MunitSlope\": {\n",
    "            \"MAD+0.94\": [\n",
    "                1.2, 1.2, 1.2, 1.1\n",
    "            ],\n",
    "            \"MAD-0.5\": [\n",
    "                2.8, 2.9, 2.5, 2.1\n",
    "            ],\n",
    "            \"SANE-0.5\": [\n",
    "                28.0, 30.0, 22.0, 21.0\n",
    "            ],\n",
    "            \"SANE+0.94\": [\n",
    "                0.72\n",
    "            ]\n",
    "        }\n",
    "    }\n",
    "}"
   ]
  },
  {
   "cell_type": "markdown",
   "id": "d9464c41",
   "metadata": {},
   "source": [
    "new PROBLEMS:\n",
    "\n",
    "- using MunitUsed from IPOLE and using that for GRMONTY gives 0 flux - SANE only"
   ]
  },
  {
   "cell_type": "markdown",
   "id": "bff4b740",
   "metadata": {},
   "source": [
    "conversion from nu*L_nu -> maybe find solid angle?\n",
    "\n",
    "5.2.1 footnote 3 (Comparison of Sgr A* with GRMHD simulations) for conversion between I_nu and F_nu\n",
    "\n",
    "set the munit in GRMONTY to match a data point near 230 GHz"
   ]
  }
 ],
 "metadata": {
  "kernelspec": {
   "display_name": "ipole_venv",
   "language": "python",
   "name": "python3"
  },
  "language_info": {
   "codemirror_mode": {
    "name": "ipython",
    "version": 3
   },
   "file_extension": ".py",
   "mimetype": "text/x-python",
   "name": "python",
   "nbconvert_exporter": "python",
   "pygments_lexer": "ipython3",
   "version": "3.6.8"
  }
 },
 "nbformat": 4,
 "nbformat_minor": 5
}
